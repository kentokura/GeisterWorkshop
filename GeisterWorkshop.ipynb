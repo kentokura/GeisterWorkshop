{
  "nbformat": 4,
  "nbformat_minor": 0,
  "metadata": {
    "colab": {
      "name": "GeisterWorkshop",
      "version": "0.3.2",
      "provenance": [],
      "collapsed_sections": [],
      "include_colab_link": true
    },
    "kernelspec": {
      "name": "python3",
      "display_name": "Python 3"
    }
  },
  "cells": [
    {
      "cell_type": "markdown",
      "metadata": {
        "id": "view-in-github",
        "colab_type": "text"
      },
      "source": [
        "<a href=\"https://colab.research.google.com/github/ma2bara/GeisterWorkshop/blob/master/GeisterWorkshop.ipynb\" target=\"_parent\"><img src=\"https://colab.research.google.com/assets/colab-badge.svg\" alt=\"Open In Colab\"/></a>"
      ]
    },
    {
      "cell_type": "markdown",
      "metadata": {
        "id": "NtBHE10lltGv",
        "colab_type": "text"
      },
      "source": [
        "これは、ボードAIワークショップ第1回　ガイスター用のサンプルプログラムです。"
      ]
    },
    {
      "cell_type": "code",
      "metadata": {
        "id": "PIls6gSeXRic",
        "colab_type": "code",
        "colab": {}
      },
      "source": [
        "import numpy as np\n",
        "\n",
        "# 各種の定数を宣言\n",
        "BOARD_WIDTH = 6 # ボードの幅\n",
        "BOARD_HEIGHT = 6 # 高さ\n",
        "MAX_PIECES = 8 # 持ち駒の数\n",
        "# ゲームの進行を保持・制御\n",
        "STATE_WAIT_FOR_BLACK_OR_WHITE = 0 # ゲームの開始待ち（どちらが先手か入力してもらう）\n",
        "STATE_WAIT_FOR_ENTER_OPPONENT = 1 # 相手の打ち手（x,y,direction）の入力待ち\n",
        "STATE_WON = 2 # 私の勝ち\n",
        "STATE_LOST = 3 # 私の負け\n",
        "\n",
        "# 変数を定義\n",
        "board = np.zeros((BOARD_WIDTH, BOARD_HEIGHT), dtype=np.float32) # 現在のボードの状態を表現するnumpy配列＝幅と高さを持った二次元配列\n",
        "my_pieces = np.zeros((MAX_PIECES), dtype=np.float32)\n",
        "game_state = STATE_WAIT_FOR_BLACK_OR_WHITE\n",
        "\n",
        "def show_status_message() -> None:\n",
        "    if game_state == STATE_WAIT_FOR_BLACK_OR_WHITE: # ゲーム開始待ちなので、先手か後手かを入れてくれ\n",
        "        print('enter 0(I am first) or 1(I am second)')\n",
        "    elif game_state == STATE_WAIT_FOR_ENTER_OPPONENT: # 相手の手番なので、相手の手を入れてくれ\n",
        "        print('enter opponent move x,y,NEWS (e.g. 2,3,N)')\n",
        "    elif game_state == STATE_WON: # 勝った表示\n",
        "        print('I won!')\n",
        "    elif game_state == STATE_LOST: # 負けた表示\n",
        "        print('I lost.')\n",
        "\n",
        "def show_help() -> None:\n",
        "    print('----------')\n",
        "    print('h, help ... show help\\nq,quit,e,end,finish ... quit program\\nr ... restart game')\n",
        "    print('----------')\n",
        "\n",
        "while True:\n",
        "    # 現在の状況に応じた入力を催促する\n",
        "    show_status_message()\n",
        "    cmd = input('>> ')\n",
        "    if cmd.lower() in {'quit', 'end', 'finish', 'q', 'e'}:\n",
        "        break\n",
        "    if cmd.lower() in {'help', 'h'}:\n",
        "        show_help()\n",
        "        continue\n"
      ],
      "execution_count": 0,
      "outputs": []
    }
  ]
}